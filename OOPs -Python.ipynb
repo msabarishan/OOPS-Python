{
 "cells": [
  {
   "cell_type": "code",
   "execution_count": 1,
   "id": "1f05e506",
   "metadata": {},
   "outputs": [
    {
     "name": "stdout",
     "output_type": "stream",
     "text": [
      "<class 'int'>\n"
     ]
    }
   ],
   "source": [
    "#inbult class\n",
    "a=5\n",
    "print(type(a))"
   ]
  },
  {
   "cell_type": "code",
   "execution_count": 2,
   "id": "3cd91c1c",
   "metadata": {},
   "outputs": [
    {
     "name": "stdout",
     "output_type": "stream",
     "text": [
      "Science\n",
      "Science\n"
     ]
    }
   ],
   "source": [
    "# User defined class\n",
    "class student:\n",
    "    def dept(self):\n",
    "        self.dept='Science'\n",
    "        return  self.dept\n",
    "    \n",
    "stud1=student()\n",
    "stud2=student()\n",
    "# Method1: Passing Object to the class (Mostly used)\n",
    "stud1_dept=stud1.dept()\n",
    "# Method2: Passing Object to the class\n",
    "stud2_dept=student.dept(stud2)\n",
    "\n",
    "print(stud1_dept)\n",
    "print(stud2_dept)"
   ]
  },
  {
   "cell_type": "code",
   "execution_count": 3,
   "id": "2ebaa51b",
   "metadata": {},
   "outputs": [
    {
     "name": "stdout",
     "output_type": "stream",
     "text": [
      "Science\n",
      "<class '__main__.student'>\n"
     ]
    }
   ],
   "source": [
    "# user defined class\n",
    "class student:\n",
    "    def dept(self):\n",
    "        self.dept='Science'\n",
    "        return  self.dept\n",
    "    \n",
    "stud1=student()\n",
    "stud1_dept=stud1.dept()\n",
    "print(stud1_dept)\n",
    "print(type(stud1))"
   ]
  },
  {
   "cell_type": "code",
   "execution_count": 4,
   "id": "309dd44c",
   "metadata": {},
   "outputs": [
    {
     "name": "stdout",
     "output_type": "stream",
     "text": [
      "i5 10GB\n",
      "i7 16GB\n"
     ]
    }
   ],
   "source": [
    "#_inint_method\n",
    "\n",
    "class computer:\n",
    "    \n",
    "    def __init__(self,core,ram):\n",
    "        self.core=core\n",
    "        self.ram=ram\n",
    "    def spec(self):\n",
    "        print(self.core,self.ram)\n",
    "    \n",
    "comp1=computer('i5','10GB')\n",
    "comp2=computer('i7','16GB')\n",
    "\n",
    "comp1.spec()\n",
    "comp2.spec()"
   ]
  },
  {
   "cell_type": "code",
   "execution_count": 5,
   "id": "a488f423",
   "metadata": {},
   "outputs": [
    {
     "name": "stdout",
     "output_type": "stream",
     "text": [
      "Both have same Ram\n"
     ]
    }
   ],
   "source": [
    "# Constructor, self and compare\n",
    "\n",
    "class computer:\n",
    "    \n",
    "    def __init__(self,core,ram):\n",
    "        self.core=core\n",
    "        self.ram=ram\n",
    "        \n",
    "    def comp(self,other):\n",
    "        if(self.ram == other.ram):\n",
    "            return True\n",
    "        else:\n",
    "            return False\n",
    "    \n",
    "comp1=computer('i5','10GB')\n",
    "comp2=computer('i7','10GB')\n",
    "\n",
    "\n",
    "if (comp1.comp(comp2)):\n",
    "    print(\"Both have same Ram\")\n",
    "else:\n",
    "    print(\"Both have different Ram\")"
   ]
  },
  {
   "cell_type": "code",
   "execution_count": 6,
   "id": "c5acc8f9",
   "metadata": {},
   "outputs": [
    {
     "name": "stdout",
     "output_type": "stream",
     "text": [
      "Lenovo i5 10GB\n",
      "Lenovo i7 32GB\n"
     ]
    }
   ],
   "source": [
    "#Typed of variable\n",
    "# instance variable\n",
    "\n",
    "class computer:\n",
    "    \n",
    "    brand='Acer'\n",
    "    \n",
    "    def __init__(self,core,ram):\n",
    "        self.core=core\n",
    "        self.ram=ram\n",
    "        \n",
    "    \n",
    "comp1=computer('i5','10GB')\n",
    "comp2=computer('i7','16GB')\n",
    "\n",
    "# Modifying instance Variable\n",
    "comp2.ram=\"32GB\"\n",
    "#Modifying class/ static variable\n",
    "computer.brand='Lenovo'\n",
    "\n",
    "print(comp1.brand,comp1.core,comp1.ram)\n",
    "print(comp2.brand,comp2.core,comp2.ram)"
   ]
  },
  {
   "cell_type": "code",
   "execution_count": 7,
   "id": "418a14c0",
   "metadata": {},
   "outputs": [
    {
     "name": "stdout",
     "output_type": "stream",
     "text": [
      "90.0\n"
     ]
    }
   ],
   "source": [
    "#types of methods\n",
    "#instance method\n",
    "\n",
    "class student:\n",
    "    def __init__(self,s):\n",
    "        self.score=s\n",
    "    def average(self,other):\n",
    "        return ((self.score+other.score)/2)      \n",
    "        \n",
    "student1=student(100)\n",
    "student2=student(80)\n",
    "\n",
    "print(student1.average(student2))"
   ]
  },
  {
   "cell_type": "code",
   "execution_count": 8,
   "id": "a455af64",
   "metadata": {},
   "outputs": [
    {
     "name": "stdout",
     "output_type": "stream",
     "text": [
      "80\n"
     ]
    }
   ],
   "source": [
    "#types of methods\n",
    "#instance method - Accessor Method\n",
    "\n",
    "class student:\n",
    "    def __init__(self,s):\n",
    "        self.score=s\n",
    "    def average(self,other):\n",
    "        return ((self.score+other.score)/2)\n",
    "    \n",
    "    #get_score is accessor method\n",
    "    def get_score(self):\n",
    "        return self.score\n",
    "    #get_score is mutator method\n",
    "    def set_score(self,value):\n",
    "        self.score=value\n",
    "        \n",
    "student1=student(100)\n",
    "student2=student(80)\n",
    "\n",
    "print(student2.get_score())"
   ]
  },
  {
   "cell_type": "code",
   "execution_count": 9,
   "id": "9735c419",
   "metadata": {},
   "outputs": [
    {
     "name": "stdout",
     "output_type": "stream",
     "text": [
      "110.0\n"
     ]
    }
   ],
   "source": [
    "#types of methods\n",
    "#instance method - Mutator\n",
    "\n",
    "class student:\n",
    "    def __init__(self,s):\n",
    "        self.score=s\n",
    "    def average(self,other):\n",
    "        return ((self.score+other.score)/2)\n",
    "    \n",
    "    #get_score is accessor method\n",
    "    def get_score(self):\n",
    "        return self.score\n",
    "    #get_score is mutator method\n",
    "    def set_score(self,value):\n",
    "        self.score=value\n",
    "        \n",
    "student1=student(100)\n",
    "student2=student(80)\n",
    "\n",
    "student2.set_score(120)\n",
    "\n",
    "print(student1.average(student2))"
   ]
  },
  {
   "cell_type": "code",
   "execution_count": 10,
   "id": "f0617025",
   "metadata": {},
   "outputs": [
    {
     "name": "stdout",
     "output_type": "stream",
     "text": [
      "GCT\n"
     ]
    }
   ],
   "source": [
    "# Types of methods:\n",
    "# Class Method\n",
    "\n",
    "class student:\n",
    "    college =\"GCT\"\n",
    "    def __init__(self,s):\n",
    "        self.score=s\n",
    "    def average(self,other):\n",
    "        return ((self.score+other.score)/2)\n",
    "    \n",
    "    #get_score is accessor method\n",
    "    def get_score(self):\n",
    "        return self.score\n",
    "    #get_score is mutator method\n",
    "    def set_score(self,value):\n",
    "        self.score=value\n",
    "    \n",
    "    # @ Decorator\n",
    "    @classmethod\n",
    "    def get_clg(cls):\n",
    "        return cls.college\n",
    "    \n",
    "        \n",
    "student1=student(100)\n",
    "student2=student(80)\n",
    "\n",
    "student2.set_score(120)\n",
    "\n",
    "print(student.college)"
   ]
  },
  {
   "cell_type": "code",
   "execution_count": 11,
   "id": "56839f40",
   "metadata": {},
   "outputs": [
    {
     "name": "stdout",
     "output_type": "stream",
     "text": [
      "GCT is located at Coimbatore, Tamilnadu\n"
     ]
    }
   ],
   "source": [
    "# Types of methods:\n",
    "# Static Method\n",
    "\n",
    "class student:\n",
    "    college =\"GCT\"\n",
    "    def __init__(self,s):\n",
    "        self.score=s\n",
    "    def average(self,other):\n",
    "        return ((self.score+other.score)/2)\n",
    "    \n",
    "    #get_score is accessor method\n",
    "    def get_score(self):\n",
    "        return self.score\n",
    "    #get_score is mutator method\n",
    "    def set_score(self,value):\n",
    "        self.score=value\n",
    "        \n",
    "    # @ Decorator\n",
    "    @staticmethod   \n",
    "    def clg_loc():\n",
    "        print(\"GCT is located at Coimbatore, Tamilnadu\")\n",
    "    \n",
    "        \n",
    "student1=student(100)\n",
    "student2=student(80)\n",
    "\n",
    "student2.set_score(120)\n",
    "\n",
    "student.clg_loc()"
   ]
  },
  {
   "cell_type": "code",
   "execution_count": 12,
   "id": "1a9cd463",
   "metadata": {},
   "outputs": [
    {
     "name": "stdout",
     "output_type": "stream",
     "text": [
      "Acer i5\n"
     ]
    }
   ],
   "source": [
    "#inner class\n",
    "\n",
    "class computer:\n",
    "    \n",
    "    def __init__(self):\n",
    "        self.core='i5'\n",
    "        self.ram='8GB'\n",
    "        self.make=self.make()\n",
    "        \n",
    "    class make:\n",
    "        def __init__(self):\n",
    "            self.brand=\"Acer\"\n",
    "            self.make=\"India\"\n",
    "    \n",
    "comp1=computer()\n",
    "comp2=computer()\n",
    "\n",
    "print(comp1.make.brand,comp1.core)\n",
    "\n"
   ]
  },
  {
   "cell_type": "code",
   "execution_count": 13,
   "id": "cc828464",
   "metadata": {},
   "outputs": [
    {
     "name": "stdout",
     "output_type": "stream",
     "text": [
      "this is class A\n",
      "this is feature 1\n"
     ]
    }
   ],
   "source": [
    "#Inheritance\n",
    "#Single level \n",
    "\n",
    "class classA:\n",
    "    \n",
    "    def __init__(self):\n",
    "        print(\"this is class A\")\n",
    "        \n",
    "    def feature1(self):\n",
    "        print(\"this is feature 1\")\n",
    "        \n",
    "    def feature2(self):\n",
    "        print(\"this is feature 2\")\n",
    "\n",
    "        \n",
    "class classB(classA):\n",
    "        \n",
    "    def feature3(self):\n",
    "        print(\"this is feature 3\")\n",
    "        \n",
    "    def feature4(self):\n",
    "        print(\"this is feature 4\")\n",
    "        \n",
    "b=classB()\n",
    "\n",
    "b.feature1()"
   ]
  },
  {
   "cell_type": "code",
   "execution_count": 14,
   "id": "63c95eba",
   "metadata": {},
   "outputs": [
    {
     "name": "stdout",
     "output_type": "stream",
     "text": [
      "this is class A\n",
      "this is feature 1\n"
     ]
    }
   ],
   "source": [
    "#Inheritance: Multilevel Inheritance\n",
    "class classA:\n",
    "    \n",
    "    def __init__(self):\n",
    "        print(\"this is class A\")\n",
    "        \n",
    "    def feature1(self):\n",
    "        print(\"this is feature 1\")\n",
    "        \n",
    "    def feature2(self):\n",
    "        print(\"this is feature 2\")\n",
    "\n",
    "        \n",
    "class classB(classA):\n",
    "        \n",
    "    def feature3(self):\n",
    "        print(\"this is feature 3\")\n",
    "        \n",
    "    def feature4(self):\n",
    "        print(\"this is feature 4\")\n",
    "        \n",
    "class classC(classB):\n",
    "        \n",
    "    def feature5(self):\n",
    "        print(\"this is feature 5\")\n",
    "        \n",
    "        \n",
    "c=classC()\n",
    "\n",
    "c.feature1()"
   ]
  },
  {
   "cell_type": "code",
   "execution_count": 15,
   "id": "0d36e77d",
   "metadata": {},
   "outputs": [
    {
     "name": "stdout",
     "output_type": "stream",
     "text": [
      "this is class C\n",
      "this is feature 1\n",
      "this is feature 3\n"
     ]
    }
   ],
   "source": [
    "#multiple inheritance\n",
    "\n",
    "class classA:\n",
    "    \n",
    "    def __init__(self):\n",
    "        print(\"this is class A\")\n",
    "        \n",
    "    def feature1(self):\n",
    "        print(\"this is feature 1\")\n",
    "        \n",
    "    def feature2(self):\n",
    "        print(\"this is feature 2\")\n",
    "\n",
    "        \n",
    "class classB():\n",
    "        \n",
    "    def feature3(self):\n",
    "        print(\"this is feature 3\")\n",
    "        \n",
    "    def feature4(self):\n",
    "        print(\"this is feature 4\")\n",
    "        \n",
    "class classC(classA,classB):\n",
    "    \n",
    "    def __init__(self):\n",
    "        print(\"this is class C\")\n",
    "        \n",
    "    def feature5(self):\n",
    "        print(\"this is feature 5\")\n",
    "        \n",
    "        \n",
    "c=classC()\n",
    "\n",
    "c.feature1()\n",
    "c.feature3()"
   ]
  },
  {
   "cell_type": "code",
   "execution_count": 16,
   "id": "0ab4deec",
   "metadata": {},
   "outputs": [
    {
     "name": "stdout",
     "output_type": "stream",
     "text": [
      "this is class A\n",
      "this is class B\n",
      "this is class B\n",
      "this is class A\n"
     ]
    }
   ],
   "source": [
    "# Constructor inheritance\n",
    "#multiple inheritance \n",
    "\n",
    "class classA:\n",
    "    # This is constructor of A\n",
    "    def __init__(self):\n",
    "        print(\"this is class A\")\n",
    "        \n",
    "    def feature1(self):\n",
    "        print(\"this is feature 1\")\n",
    "        \n",
    "    def feature2(self):\n",
    "        print(\"this is feature 2\")\n",
    "\n",
    "        \n",
    "class classB(classA):\n",
    "    # This is constructor of B\n",
    "    def __init__(self):\n",
    "        print(\"this is class B\")\n",
    "        \n",
    "    def feature3(self):\n",
    "        pass\n",
    "        \n",
    "    def feature4(self):\n",
    "        pass\n",
    "        \n",
    "class classC(classA):  \n",
    "    def feature5(self):\n",
    "        pass\n",
    "        \n",
    "class classD(classB):  \n",
    "    def feature6(self):\n",
    "        pass\n",
    "    \n",
    "class classF():  \n",
    "    \n",
    "    def __init__(self):\n",
    "        print(\"this is class F\")\n",
    "        \n",
    "    def feature7(self):\n",
    "        pass\n",
    "        \n",
    "class classE(classA,classF):\n",
    "    def feature7(self):\n",
    "        pass\n",
    "# class C does not have constructor        \n",
    "c=classC()\n",
    "# class B does  have constructor \n",
    "b=classB()\n",
    "# class D does not have constructor and its immediate successor is class B \n",
    "d=classD()\n",
    "# class E does not have constructor and left most constructor is class A\n",
    "e=classE()"
   ]
  },
  {
   "cell_type": "code",
   "execution_count": 17,
   "id": "f6982bb8",
   "metadata": {},
   "outputs": [
    {
     "name": "stdout",
     "output_type": "stream",
     "text": [
      "this is class A\n",
      "this is class B\n"
     ]
    }
   ],
   "source": [
    "# constructor inheritance-super().__init__ : Mutilevel\n",
    "class classA:\n",
    "    # This is constructor of A\n",
    "    def __init__(self):\n",
    "        print(\"this is class A\")\n",
    "        \n",
    "    def feature1(self):\n",
    "        print(\"this is feature 1\")\n",
    "        \n",
    "    def feature2(self):\n",
    "        print(\"this is feature 2\")\n",
    "\n",
    "        \n",
    "class classB(classA):\n",
    "    # This is constructor of B\n",
    "    def __init__(self):\n",
    "        super().__init__()\n",
    "        print(\"this is class B\")\n",
    "        \n",
    "\n",
    "        pass\n",
    "b=classB()"
   ]
  },
  {
   "cell_type": "code",
   "execution_count": 18,
   "id": "e4acb48b",
   "metadata": {},
   "outputs": [
    {
     "name": "stdout",
     "output_type": "stream",
     "text": [
      "this is class A\n",
      "this is class E\n",
      "This is class F feature1\n"
     ]
    }
   ],
   "source": [
    "# constructor inheritance-super().__init__ : Multilevel\n",
    "class classA:\n",
    "    # This is constructor of A\n",
    "    def __init__(self):\n",
    "        print(\"this is class A\")\n",
    "    \n",
    "class classF():  \n",
    "    \n",
    "    def __init__(self):\n",
    "        print(\"this is class F\")\n",
    "        \n",
    "    def feature1(self):\n",
    "        print(\"This is class F feature1\")\n",
    "        \n",
    "class classE(classA,classF):\n",
    "    def __init__(self):\n",
    "        super().__init__()\n",
    "        print(\"this is class E\")\n",
    "    \n",
    "    def feature1(self):\n",
    "        print(\"This is class E feature1\")\n",
    "        \n",
    "    def feat(self):\n",
    "        super().feature1()\n",
    "\n",
    "e=classE()\n",
    "e.feat()"
   ]
  },
  {
   "cell_type": "code",
   "execution_count": 19,
   "id": "f741bdb5",
   "metadata": {},
   "outputs": [
    {
     "name": "stdout",
     "output_type": "stream",
     "text": [
      "Compiled Successfully\n"
     ]
    }
   ],
   "source": [
    "#Polymorphism -Duck Typing\n",
    "\n",
    "class vscode:\n",
    "    def execute(self):\n",
    "        print(\"Compiled Successfully\")\n",
    "        \n",
    "class test:\n",
    "    def result(self,ide):\n",
    "        ide.execute()\n",
    "    \n",
    "vscode_ide=vscode()\n",
    "test1=test()\n",
    "test1.result(vscode_ide)"
   ]
  },
  {
   "cell_type": "code",
   "execution_count": 20,
   "id": "a510f58b",
   "metadata": {},
   "outputs": [
    {
     "name": "stdout",
     "output_type": "stream",
     "text": [
      "5800\n"
     ]
    }
   ],
   "source": [
    "#Polymorphism - Operator Overloading\n",
    "\n",
    "class cars:\n",
    "    \n",
    "    def __init__(self,cost,tax):\n",
    "        self.cost=cost\n",
    "        self.tax=tax\n",
    "    def __add__(self,other):\n",
    "        cost=self.cost+other.cost\n",
    "        tax=self.tax+other.tax\n",
    "        total=cars(cost,tax)\n",
    "        return total\n",
    "    \n",
    "car1=cars(10000,1800)\n",
    "car2=cars(20000,4000)\n",
    "\n",
    "total=car1+car2\n",
    "\n",
    "print(total.tax)"
   ]
  },
  {
   "cell_type": "code",
   "execution_count": 21,
   "id": "5625e0e6",
   "metadata": {},
   "outputs": [
    {
     "data": {
      "text/plain": [
       "11"
      ]
     },
     "execution_count": 21,
     "metadata": {},
     "output_type": "execute_result"
    }
   ],
   "source": [
    "#Polymorphism- Method Overloading\n",
    "#Polymorphism - Operator Overloading\n",
    "\n",
    "class operations:\n",
    "\n",
    "    def sum(self,a=None,b=None,c=None):\n",
    "        total=0\n",
    "        if (a!=None and b!=None and c!=None):\n",
    "            total=a+b+c\n",
    "        elif (a!=None and b!=None):\n",
    "            total=a+b\n",
    "        else:\n",
    "            total=a\n",
    "        return total\n",
    "    \n",
    "summation=operations()\n",
    "\n",
    "summation.sum(5,6)"
   ]
  },
  {
   "cell_type": "code",
   "execution_count": 22,
   "id": "a0fa08a8",
   "metadata": {},
   "outputs": [
    {
     "name": "stdout",
     "output_type": "stream",
     "text": [
      "Class B\n"
     ]
    }
   ],
   "source": [
    "# Polymorphism - Method Overriding\n",
    "\n",
    "class A:\n",
    "\n",
    "    def display(self):\n",
    "        print(\"Class A\")\n",
    "        \n",
    "class B(A):\n",
    "\n",
    "    def display(self):\n",
    "        print(\"Class B\")\n",
    "    \n",
    "b=B()\n",
    "b.display()"
   ]
  },
  {
   "cell_type": "code",
   "execution_count": null,
   "id": "de61e0ee",
   "metadata": {},
   "outputs": [],
   "source": []
  }
 ],
 "metadata": {
  "kernelspec": {
   "display_name": "Python 3 (ipykernel)",
   "language": "python",
   "name": "python3"
  },
  "language_info": {
   "codemirror_mode": {
    "name": "ipython",
    "version": 3
   },
   "file_extension": ".py",
   "mimetype": "text/x-python",
   "name": "python",
   "nbconvert_exporter": "python",
   "pygments_lexer": "ipython3",
   "version": "3.9.12"
  }
 },
 "nbformat": 4,
 "nbformat_minor": 5
}
